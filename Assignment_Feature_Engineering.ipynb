{
 "cells": [
  {
   "cell_type": "markdown",
   "id": "da13a143",
   "metadata": {},
   "source": [
    "# Assignment : Feature Engineering"
   ]
  },
  {
   "cell_type": "markdown",
   "id": "e91a9642",
   "metadata": {},
   "source": [
    "## Theoritical Questions"
   ]
  },
  {
   "cell_type": "markdown",
   "id": "bfa834f3",
   "metadata": {},
   "source": [
    "#### Question 1: What is a parameter?\n",
    "\n",
    "### Answer 1:\n",
    " A parameter is a value that defines a model and is learned from training data (e.g., weights in linear regression).\n",
    "\n",
    "------------------------------------------------------"
   ]
  },
  {
   "cell_type": "markdown",
   "id": "bb63b63d",
   "metadata": {},
   "source": [
    "####  Question2 :  What is correlation? What does negative correlation mean?\n",
    "\n",
    "#### Answer 2:\n",
    " Correlation is a statistical measure that expresses the extent to which two variables move together. It ranges from -1 to 1.\n",
    "\n",
    " Negative correlation means that as one variable increases, the other decreases. A correlation coefficient close to -1 indicates a strong negative relationship\n",
    "\n",
    "----------------------------------------------------------"
   ]
  },
  {
   "cell_type": "markdown",
   "id": "f12ced19",
   "metadata": {},
   "source": []
  },
  {
   "cell_type": "markdown",
   "id": "412db9d5",
   "metadata": {},
   "source": [
    "#### Question 3: Define Machine Learning. What are the main components in Machine Learning?\n",
    "\n",
    "#### Answer 3:\n",
    " Machine Learning (ML) is a field of AI that enables systems to learn patterns from data and make decisions without being explicitly programmed.\n",
    "\n",
    " Main components:\n",
    "  Data\n",
    "  Features\n",
    "  Model\n",
    "  Loss function\n",
    "  Optimizer\n",
    "  Training process\n",
    "\n",
    "-----------------------------------------------------"
   ]
  },
  {
   "cell_type": "markdown",
   "id": "8aef2104",
   "metadata": {},
   "source": [
    "#### Question 4: How does loss value help in determining whether the model is good or not?\n",
    "\n",
    "#### Answer 4:\n",
    " The loss value measures the difference between the model's prediction and the actual target. A lower loss indicates better model performance.\n",
    "\n",
    "------------------------------------------------------\n",
    "\n"
   ]
  },
  {
   "cell_type": "markdown",
   "id": "2ad1674f",
   "metadata": {},
   "source": [
    "#### Question 5: What are continuous and categorical variables?\n",
    "\n",
    "#### Answer 5:\n",
    " Continuous: Numeric values with infinite possible values (e.g., height, temperature).\n",
    "\n",
    " Categorical: Variables with discrete categories (e.g., gender, color).\n",
    "\n",
    "---------------------------------------------------------"
   ]
  },
  {
   "cell_type": "markdown",
   "id": "9cf7acdb",
   "metadata": {},
   "source": [
    "#### Question 6: How do we handle categorical variables in Machine Learning?\n",
    "\n",
    "#### Answer 6:\n",
    " Common techniques:\n",
    "  Label Encoding (ordinal)\n",
    "  One-Hot Encoding (nominal)\n",
    "  Ordinal Encoding\n",
    "  Binary Encoding\n",
    "\n",
    "----------------------------------------------------------"
   ]
  },
  {
   "cell_type": "markdown",
   "id": "1a67f825",
   "metadata": {},
   "source": [
    "#### Question 7: What do you mean by training and testing a dataset?\n",
    "\n",
    "#### Answer 7:\n",
    " Training set: Used to train the model.\n",
    "\n",
    " Testing set: Used to evaluate the model’s performance on unseen data.\n",
    "\n",
    "----------------------------------------------------------\n",
    "\n"
   ]
  },
  {
   "cell_type": "markdown",
   "id": "28db91d4",
   "metadata": {},
   "source": [
    "#### Question 8: What is sklearn.preprocessing?\n",
    "\n",
    "#### Answer 8:\n",
    " A module in Scikit-learn that provides preprocessing techniques like scaling, encoding, and imputing missing values.\n",
    "\n",
    "----------------------------------------------------------"
   ]
  },
  {
   "cell_type": "markdown",
   "id": "d94f2537",
   "metadata": {},
   "source": [
    "#### Question 9: What is a Test set?\n",
    "\n",
    "#### Answer 9:\n",
    " The Test set is a subset of data used to assess the final performance of the trained model.\n",
    "\n",
    "----------------------------------------------------------"
   ]
  },
  {
   "cell_type": "markdown",
   "id": "361c5608",
   "metadata": {},
   "source": [
    "#### Question 10: How do we split data for model fitting in Python?How do you approach a Machine Learning problems?\n",
    "\n",
    "\n",
    "#### Answer 10:\n",
    "\n",
    " from sklearn.model_selection import train_test_split\n",
    " X_train, X_test, y_train, y_test = train_test_split(X, y, test_size=0.2)\n",
    "\n",
    " Approach: \n",
    " Define the problem\n",
    "   Collect data\n",
    "   Explore and preprocess data (EDA)\n",
    "   Feature engineering\n",
    "   Split data\n",
    "   Train model\n",
    "   Evaluate model\n",
    "   Tune hyperparameters\n",
    "   Test and deploy\n",
    "\n",
    "----------------------------------------------------------\n"
   ]
  },
  {
   "cell_type": "markdown",
   "id": "b6d66860",
   "metadata": {},
   "source": [
    "#### Question 11: Why do we perform EDA before fitting a model?\n",
    "\n",
    "#### Answer 11:\n",
    " EDA (Exploratory Data Analysis) helps understand data structure, spot outliers, and identify patterns that inform preprocessing and modeling decisions.\n",
    "\n",
    "\n",
    "--------------------------------------------------------\n"
   ]
  },
  {
   "cell_type": "markdown",
   "id": "fd2b5772",
   "metadata": {},
   "source": [
    "#### Question 12: \n",
    "\n",
    "#### Answer 12: Repeated(same as question 2)\n",
    "\n",
    "--------------------------------------------------------"
   ]
  },
  {
   "cell_type": "markdown",
   "id": "043b593e",
   "metadata": {},
   "source": [
    "#### Question  13: What does negative correlation mean?\n",
    "\n",
    "#### ANswer 13: Reapeared same as question no 3\n",
    "\n",
    "------------------------------------------------------\n"
   ]
  },
  {
   "cell_type": "markdown",
   "id": "82735fe4",
   "metadata": {},
   "source": [
    "#### Question 14: How can you find correlation between variables in Python?\n",
    "\n",
    "#### Answer 14:\n",
    " import pandas as pd\n",
    " df.corr()\n",
    "\n",
    "----------------------------------------------------\n"
   ]
  },
  {
   "cell_type": "markdown",
   "id": "eba3d197",
   "metadata": {},
   "source": [
    "#### Question 15: What is causation? Difference between correlation and causation with an example?\n",
    "\n",
    "#### Answer 15:\n",
    " Causation: One variable causes a change in another.\n",
    "\n",
    " Correlation: Variables move together, but not necessarily cause-effect.\n",
    "\n",
    " Example:\n",
    " Ice cream sales and drowning incidents are correlated (both rise in summer), but ice cream doesn’t cause drowning—not causation.\n",
    "\n",
    "----------------------------------------------------------"
   ]
  },
  {
   "cell_type": "markdown",
   "id": "4b301426",
   "metadata": {},
   "source": [
    "#### Question 16: What is an Optimizer? What are different types of optimizers?\n",
    "#### Answer 16: \n",
    " An optimizer adjusts model parameters to minimize the loss.\n",
    "\n",
    " Common optimizers:\n",
    "  SGD (Stochastic Gradient Descent)\n",
    "  Adam (adaptive learning rates)\n",
    "  RMSprop\n",
    "\n",
    "Example with Adam in Keras:\n",
    "model.compile(optimizer='adam', loss='mse')\n",
    "\n",
    "-------------------------------------------------------"
   ]
  },
  {
   "cell_type": "markdown",
   "id": "92b27d67",
   "metadata": {},
   "source": [
    "#### Question 17: What is sklearn.linear_model?\n",
    "\n",
    "#### Answer 17:\n",
    " A Scikit-learn module that contains linear models like LinearRegression, LogisticRegression, Ridge, Lasso, etc.\n",
    "\n",
    "---------------------------------------------------------"
   ]
  },
  {
   "cell_type": "markdown",
   "id": "2410a94e",
   "metadata": {},
   "source": [
    "#### Question 18: What does model.fit() do? What arguments must be given?\n",
    "\n",
    "#### Answer 18:\n",
    " Trains the model using training data.\n",
    " model.fit(X_train, y_train)\n",
    "\n",
    "------------------------------------------------------"
   ]
  },
  {
   "cell_type": "markdown",
   "id": "dfeccde6",
   "metadata": {},
   "source": [
    "#### Question 19: What does model.predict() do? What arguments must be given?\n",
    "\n",
    "#### Answer 19: \n",
    " Makes predictions on new/unseen data.\n",
    " y_pred = model.predict(X_test)\n",
    "\n",
    "\n",
    "--------------------------------------------------------\n",
    "\n",
    "\n"
   ]
  },
  {
   "cell_type": "markdown",
   "id": "ac34234d",
   "metadata": {},
   "source": [
    "#### Question 20:  What are continuous and categorical variables?\n",
    "\n",
    "#### Answer 20: Repeated same as question 6\n",
    "\n",
    "--------------------------------------------------------"
   ]
  },
  {
   "cell_type": "markdown",
   "id": "7074fe73",
   "metadata": {},
   "source": [
    "#### Question 21: What is feature scaling? How does it help in Machine Learning?\n",
    "\n",
    "#### Answer 21:\n",
    " Feature scaling standardizes the range of independent variables. It improves convergence in models like gradient descent and prevents bias from large-scale variables.\n",
    "\n",
    "----------------------------------------------------------\n",
    "\n"
   ]
  },
  {
   "cell_type": "markdown",
   "id": "a5ef9b3c",
   "metadata": {},
   "source": [
    "#### Question 22: How do we perform scaling in Python?\n",
    "\n",
    "#### Answer 22: \n",
    "\n",
    "from sklearn.preprocessing import StandardScaler\n",
    "scaler = StandardScaler()\n",
    "X_scaled = scaler.fit_transform(X)\n",
    "\n",
    "--------------------------------------------------\n"
   ]
  },
  {
   "cell_type": "markdown",
   "id": "181034f7",
   "metadata": {},
   "source": [
    "#### Question 23: What is sklearn.preprocessing?\n",
    "\n",
    "#### Answer 23:\n",
    " sklearn.preprocessing is a module in Scikit-learn (sklearn) that provides tools to prepare and transform data before fitting it into a machine learning model. This preprocessing improves the performance and accuracy of ML algorithms.\n",
    "\n",
    " Common tasks in sklearn.preprocessing:\n",
    "  Scaling: Standardizing or normalizing features (e.g., StandardScaler, MinMaxScaler)\n",
    "\n",
    "  Encoding: Converting categorical variables into numerical (e.g., LabelEncoder, OneHotEncoder)\n",
    "\n",
    "  Binarization: Converting numerical values to binary (e.g., Binarizer)\n",
    "\n",
    "  Polynomial transformation: Creating polynomial features (e.g., PolynomialFeatures)\n",
    "\n",
    "  Imputation: Handling missing values (e.g., SimpleImputer)\n",
    "\n",
    "-------------------------------------------------------"
   ]
  },
  {
   "cell_type": "markdown",
   "id": "83ff6919",
   "metadata": {},
   "source": [
    "#### Question 24: How do we split data for model fitting (training and testing) in Python?\n",
    "\n",
    "#### Answer 24:\n",
    " We use train_test_split from sklearn.model_selection to split the dataset into training and testing sets.\n",
    "\n",
    "\n",
    " from sklearn.model_selection import train_test_split\n",
    " X_train, X_test, y_train, y_test = train_test_split(X, y, test_size=0.2, random_state=42)\n",
    "\n",
    "--------------------------------------------------------"
   ]
  },
  {
   "cell_type": "markdown",
   "id": "d14c3028",
   "metadata": {},
   "source": [
    "#### Question 25: Explain Data Encoding\n",
    "\n",
    "#### Answer 25:\n",
    " Data encoding is the process of converting categorical data (text or labels) into a numerical format so that machine learning models can process them.\n",
    "\n",
    "\n",
    " Types of Encoding:\n",
    "  Label Encoding\n",
    "  One-Hot Encoding\n",
    "  Ordinal Encoding\n",
    "\n",
    "---------------------------------------------------------\n"
   ]
  }
 ],
 "metadata": {
  "language_info": {
   "name": "python"
  }
 },
 "nbformat": 4,
 "nbformat_minor": 5
}
